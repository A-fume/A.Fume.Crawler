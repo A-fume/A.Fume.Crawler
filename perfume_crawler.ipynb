{
  "nbformat": 4,
  "nbformat_minor": 0,
  "metadata": {
    "colab": {
      "name": "perfume_crawler",
      "provenance": [],
      "collapsed_sections": []
    },
    "kernelspec": {
      "name": "python3",
      "display_name": "Python 3",
      "language": "python"
    }
  },
  "cells": [
    {
      "cell_type": "code",
      "metadata": {
        "id": "iHRYDMpvHFAR"
      },
      "source": [
        "from bs4 import BeautifulSoup \n",
        "import requests\n",
        "import urllib.request\n",
        "import time\n",
        "import random\n",
        "import os\n",
        "from dotenv import load_dotenv"
      ],
      "execution_count": 24,
      "outputs": []
    },
    {
      "cell_type": "code",
      "metadata": {
        "id": "bepboqC152iR"
      },
      "source": [
        "#브랜드별 향수 목록 가져오기\n",
        "def brand_perfume_crawler():\n",
        "\n",
        "  load_dotenv(dotenv_path = '.env', verbose=True)\n",
        "  site_url = os.getenv('SITE_URL')\n",
        "  header = os.getenv('HEADER')\n",
        "\n",
        "  input_keyword = input('향수 브랜드 영문 이름을 입력하세요.\\n사이트 내에서 정확한 명을 찾아 입력해주세요!(단어간 띄어쓰기, 대소문자 중요) : ')\n",
        "  keyword = input_keyword.replace(' ','-') # 공백 하이픈(-)처리\n",
        "\n",
        "  try:\n",
        "    link = (site_url + '/designers/{}.html').format(keyword)\n",
        "    res = requests.get(link, headers = {'User-agent': header}) # 헤더 추가해서 429 에러 우회\n",
        "    bs = BeautifulSoup(res.text, 'html.parser')\n",
        "\n",
        "    all_perfume_url = []\n",
        "    for i in bs.select('body div#main-content div#brands div.cell.text-left.prefumeHbox.px1-box-shadow div.flex-child-auto h3 a'):\n",
        "      perfume_url = i[\"href\"]\n",
        "      all_perfume_url.append(perfume_url)\n",
        "    for i in all_perfume_url:\n",
        "      print(i)\n",
        "  except AttributeError as e:\n",
        "   print(e)\n",
        "\n",
        "  return all_perfume_url"
      ],
      "execution_count": 31,
      "outputs": []
    },
    {
      "cell_type": "code",
      "metadata": {
        "id": "-9vtfBFcpl1l",
        "colab": {
          "base_uri": "https://localhost:8080/"
        },
        "outputId": "33e3a1b1-2964-40b5-b7db-e0da79a7c892"
      },
      "source": [
        "perfume_list = brand_perfume_crawler()"
      ],
      "execution_count": 32,
      "outputs": [
        {
          "output_type": "stream",
          "name": "stdout",
          "text": [
            "/perfume/Tom-Ford/Black-Orchid-1018.html\n/perfume/Tom-Ford/Black-Orchid-Eau-de-Toilette-31969.html\n/perfume/Tom-Ford/Black-Orchid-Hair-Mist-47761.html\n/perfume/Tom-Ford/Black-Orchid-Oud-42432.html\n/perfume/Tom-Ford/Black-Orchid-Parfum-62199.html\n/perfume/Tom-Ford/Black-Orchid-Perfume-Lalique-Edition-42789.html\n/perfume/Tom-Ford/Black-Orchid-Voile-de-Fleur-1819.html\n/perfume/Tom-Ford/Orchid-Soleil-38650.html\n/perfume/Tom-Ford/Velvet-Orchid-22963.html\n/perfume/Tom-Ford/Velvet-Orchid-Lumiere-40986.html\n/perfume/Tom-Ford/Grey-Vetiver-6697.html\n/perfume/Tom-Ford/Grey-Vetiver-Eau-de-Toilette-28459.html\n/perfume/Tom-Ford/Cafe-Rose-15913.html\n/perfume/Tom-Ford/Jonquille-de-Nuit-15914.html\n/perfume/Tom-Ford/Lys-Fume-15915.html\n/perfume/Tom-Ford/Ombre-de-Hyacinth-15916.html\n/perfume/Tom-Ford/Noir-15727.html\n/perfume/Tom-Ford/Noir-Anthracite-45691.html\n/perfume/Tom-Ford/Noir-Eau-de-Toilette-21553.html\n/perfume/Tom-Ford/Noir-Extreme-29675.html\n/perfume/Tom-Ford/Noir-Pour-Femme-30957.html\n/perfume/Tom-Ford/Amber-Absolute-1821.html\n/perfume/Tom-Ford/Arabian-Wood-6363.html\n/perfume/Tom-Ford/Azure-Lime-8706.html\n/perfume/Tom-Ford/Beau-de-Jour-52790.html\n/perfume/Tom-Ford/Bitter-Peach-62707.html\n/perfume/Tom-Ford/Black-Violet-1823.html\n/perfume/Tom-Ford/Bois-Marocain-7942.html\n/perfume/Tom-Ford/Bois-Rouge-1847.html\n/perfume/Tom-Ford/Champaca-Absolute-6147.html\n/perfume/Tom-Ford/Eau-de-Soleil-Blanc-48152.html\n/perfume/Tom-Ford/Fougere-d-Argent-50458.html\n/perfume/Tom-Ford/Fougere-Platine-50469.html\n/perfume/Tom-Ford/Fucking-Fabulous-46513.html\n/perfume/Tom-Ford/Italian-Cypress-4329.html\n/perfume/Tom-Ford/Japon-Noir-1851.html\n/perfume/Tom-Ford/Jasmin-Rouge-12765.html\n/perfume/Tom-Ford/Lavender-Extreme-54381.html\n/perfume/Tom-Ford/Lavender-Palm-13101.html\n/perfume/Tom-Ford/London-18883.html\n/perfume/Tom-Ford/Lost-Cherry-51411.html\n/perfume/Tom-Ford/Moss-Breches-1827.html\n/perfume/Tom-Ford/Noir-de-Noir-1822.html\n/perfume/Tom-Ford/Ombre-Leather-16-40809.html\n/perfume/Tom-Ford/Oud-Fleur-21401.html\n/perfume/Tom-Ford/Oud-Minerale-45192.html\n/perfume/Tom-Ford/Oud-Wood-1826.html\n/perfume/Tom-Ford/Oud-Wood-Intense-46767.html\n/perfume/Tom-Ford/Patchouli-Absolu-28009.html\n/perfume/Tom-Ford/Purple-Patchouli-1848.html\n/perfume/Tom-Ford/Rose-Prick-58781.html\n/perfume/Tom-Ford/Santal-Blush-12766.html\n/perfume/Tom-Ford/Soleil-Blanc-34893.html\n/perfume/Tom-Ford/Soleil-Neige-56737.html\n/perfume/Tom-Ford/Tobacco-Oud-21402.html\n/perfume/Tom-Ford/Tobacco-Oud-Intense-46482.html\n/perfume/Tom-Ford/Tobacco-Vanille-1825.html\n/perfume/Tom-Ford/Tuscan-Leather-1849.html\n/perfume/Tom-Ford/Tuscan-Leather-Intense-55340.html\n/perfume/Tom-Ford/Vanille-Fatale-48029.html\n/perfume/Tom-Ford/Velvet-Gardenia-1824.html\n/perfume/Tom-Ford/Venetian-Bergamot-31696.html\n/perfume/Tom-Ford/Fleur-de-Chine-18491.html\n/perfume/Tom-Ford/Plum-Japonais-18490.html\n/perfume/Tom-Ford/Rive-d-Ambre-18492.html\n/perfume/Tom-Ford/Shanghai-Lily-17220.html\n/perfume/Tom-Ford/Vert-Boheme-40091.html\n/perfume/Tom-Ford/Vert-d-Encens-40087.html\n/perfume/Tom-Ford/Vert-de-Fleur-40090.html\n/perfume/Tom-Ford/Vert-des-Bois-40089.html\n/perfume/Tom-Ford/Costa-Azzurra-25482.html\n/perfume/Tom-Ford/Costa-Azzurra-Acqua-52789.html\n/perfume/Tom-Ford/Fleur-de-Portofino-30677.html\n/perfume/Tom-Ford/Fleur-de-Portofino-Acqua-55658.html\n/perfume/Tom-Ford/Mandarino-di-Amalfi-25481.html\n/perfume/Tom-Ford/Mandarino-di-Amalfi-Acqua-44084.html\n/perfume/Tom-Ford/Neroli-Portofino-12192.html\n/perfume/Tom-Ford/Neroli-Portofino-Acqua-32614.html\n/perfume/Tom-Ford/Neroli-Portofino-Forte-35575.html\n/perfume/Tom-Ford/Sole-di-Positano-44106.html\n/perfume/Tom-Ford/Sole-Di-Positano-Acqua-55341.html\n/perfume/Tom-Ford/Jasmine-Musk-6383.html\n/perfume/Tom-Ford/Musk-Pure-6385.html\n/perfume/Tom-Ford/Urban-Musk-6384.html\n/perfume/Tom-Ford/White-Suede-6386.html\n/perfume/Tom-Ford/Reserve-Collection-Amber-Absolute-53603.html\n/perfume/Tom-Ford/Reserve-Collection-Arabian-Wood-53604.html\n/perfume/Tom-Ford/Reserve-Collection-Black-Violet-53606.html\n/perfume/Tom-Ford/Reserve-Collection-Bois-Marocain-53605.html\n/perfume/Tom-Ford/Reserve-Collection-Italian-Cypress-53607.html\n/perfume/Tom-Ford/Reserve-Collection-Jonquille-de-Nuit-53608.html\n/perfume/Tom-Ford/Reserve-Collection-Rive-d-Ambre-53609.html\n/perfume/Tom-Ford/Reserve-Collection-Velvet-Gardenia-53610.html\n/perfume/Tom-Ford/Beau-De-Jour-Eau-de-Parfum-59064.html\n/perfume/Tom-Ford/Metallique-55766.html\n/perfume/Tom-Ford/Ombre-Leather-2018-50239.html\n/perfume/Tom-Ford/Sahara-Noir-17333.html\n/perfume/Tom-Ford/Tom-Ford-for-Men-1172.html\n/perfume/Tom-Ford/Tom-Ford-for-Men-Extreme-1820.html\n/perfume/Tom-Ford/Violet-Blonde-12767.html\n/perfume/Tom-Ford/White-Patchouli-3797.html\n"
          ]
        }
      ]
    },
    {
      "cell_type": "code",
      "execution_count": null,
      "metadata": {},
      "outputs": [],
      "source": []
    }
  ]
}
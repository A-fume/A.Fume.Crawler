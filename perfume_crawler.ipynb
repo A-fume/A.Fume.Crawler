{
  "nbformat": 4,
  "nbformat_minor": 0,
  "metadata": {
    "colab": {
      "name": "perfume_crawler",
      "provenance": [],
      "collapsed_sections": []
    },
    "kernelspec": {
      "name": "python3",
      "display_name": "Python 3",
      "language": "python"
    }
  },
  "cells": [
    {
      "cell_type": "code",
      "metadata": {
        "id": "iHRYDMpvHFAR"
      },
      "source": [
        "from bs4 import BeautifulSoup \n",
        "import requests\n",
        "import urllib.request\n",
        "import time\n",
        "import random\n",
        "import os\n",
        "from dotenv import load_dotenv"
      ],
      "execution_count": 1,
      "outputs": []
    },
    {
      "cell_type": "code",
      "execution_count": 2,
      "metadata": {},
      "outputs": [],
      "source": [
        "#환경변수 불러오기\n",
        "load_dotenv(dotenv_path = '.env', verbose=True)\n",
        "site_url = os.getenv('SITE_URL')\n",
        "site_name = os.getenv('SITE_NAME')\n",
        "header = os.getenv('HEADER')"
      ]
    },
    {
      "cell_type": "code",
      "metadata": {
        "id": "bepboqC152iR"
      },
      "source": [
        "#브랜드별 향수 목록 가져오기\n",
        "def brand_perfume_crawler(site_url, header):\n",
        "  input_keyword = input('향수 브랜드 영문 이름을 입력하세요.\\n사이트 내에서 정확한 명을 찾아 입력해주세요!(단어간 띄어쓰기, 대소문자 중요) : ')\n",
        "  keyword = input_keyword.replace(' ','-') # 공백 하이픈(-)처리\n",
        "\n",
        "  try:\n",
        "    link = (site_url + '/designers/{}.html').format(keyword)\n",
        "    res = requests.get(link, headers = {'User-agent': header}) # 헤더 추가해서 429 에러 우회\n",
        "    bs = BeautifulSoup(res.text, 'html.parser')\n",
        "\n",
        "    all_perfume_url = []\n",
        "    for i in bs.select('body div#main-content div#brands div.cell.text-left.prefumeHbox.px1-box-shadow div.flex-child-auto h3 a'):\n",
        "      perfume_url = i[\"href\"]\n",
        "      all_perfume_url.append(perfume_url)\n",
        "    for i in all_perfume_url:\n",
        "      print(i)\n",
        "  except AttributeError as e:\n",
        "   print(e)\n",
        "\n",
        "  return all_perfume_url"
      ],
      "execution_count": 3,
      "outputs": []
    },
    {
      "cell_type": "code",
      "metadata": {
        "id": "-9vtfBFcpl1l",
        "colab": {
          "base_uri": "https://localhost:8080/"
        },
        "outputId": "33e3a1b1-2964-40b5-b7db-e0da79a7c892"
      },
      "source": [
        "perfume_list = brand_perfume_crawler(site_url, header)"
      ],
      "execution_count": 4,
      "outputs": [
        {
          "output_type": "stream",
          "name": "stdout",
          "text": [
            "/perfume/Chanel/Antaeus-616.html\n/perfume/Chanel/Bois-Noir-34568.html\n/perfume/Chanel/Chanel-No-46-22520.html\n/perfume/Chanel/Cuir-de-Russie-Parfum-47794.html\n/perfume/Chanel/Le-1940-Beige-de-Chanel-45188.html\n/perfume/Chanel/Le-1940-Bleu-de-Chanel-45187.html\n/perfume/Chanel/Le-1940-Rouge-de-Chanel-45186.html\n/perfume/Chanel/Une-Fleur-de-Chanel-4689.html\n/perfume/Chanel/Allure-502.html\n/perfume/Chanel/Allure-Eau-de-Parfum-176.html\n/perfume/Chanel/Allure-Eau-Fraichissante-Pour-l-Ete-12448.html\n/perfume/Chanel/Allure-Hair-Mist-46217.html\n/perfume/Chanel/Allure-Homme-523.html\n/perfume/Chanel/Allure-Homme-Eau-Fraichissante-Pour-l-Ete-12447.html\n/perfume/Chanel/Allure-Homme-Edition-Blanche-2653.html\n/perfume/Chanel/Allure-Homme-Edition-Blanche-Eau-de-Parfum-28942.html\n/perfume/Chanel/Allure-Homme-Sport-607.html\n/perfume/Chanel/Allure-Homme-Sport-Cologne-1004.html\n/perfume/Chanel/Allure-Homme-Sport-Eau-Extreme-14669.html\n/perfume/Chanel/Allure-Parfum-33506.html\n/perfume/Chanel/Allure-Sensuelle-606.html\n/perfume/Chanel/Allure-Sensuelle-Eau-de-Toilette-28682.html\n/perfume/Chanel/Allure-Sensuelle-Parfum-28683.html\n/perfume/Chanel/Bleu-de-Chanel-9099.html\n/perfume/Chanel/Bleu-de-Chanel-Eau-de-Parfum-25967.html\n/perfume/Chanel/Bleu-de-Chanel-Parfum-49912.html\n/perfume/Chanel/Chance-Eau-de-Parfum-31351.html\n/perfume/Chanel/Chance-Eau-de-Toilette-610.html\n/perfume/Chanel/Chance-Eau-Fraiche-1483.html\n/perfume/Chanel/Chance-Eau-Fraiche-Hair-Mist-46214.html\n/perfume/Chanel/Chance-Eau-Tendre-8069.html\n/perfume/Chanel/Chance-Eau-Tendre-Eau-de-Parfum-52359.html\n/perfume/Chanel/Chance-Eau-Tendre-Hair-Mist-46215.html\n/perfume/Chanel/Chance-Eau-Vive-30796.html\n/perfume/Chanel/Chance-Eau-Vive-Hair-Mist-46216.html\n/perfume/Chanel/Chance-Hair-Mist-46213.html\n/perfume/Chanel/Chance-Parfum-31350.html\n/perfume/Chanel/Chanel-N019-11.html\n/perfume/Chanel/Chanel-No-19-Eau-de-Parfum-12345.html\n/perfume/Chanel/Chanel-No-19-Parfum-12346.html\n/perfume/Chanel/Chanel-No-19-Poudre-12424.html\n/perfume/Chanel/Chanel-N05-Vintage-608.html\n/perfume/Chanel/Chanel-N05-Eau-Premiere-1360.html\n/perfume/Chanel/Chanel-N05-Elixir-Sensuel-4687.html\n/perfume/Chanel/Chanel-No-5-Eau-de-Cologne-11638.html\n/perfume/Chanel/Chanel-No-5-Eau-de-Parfum-40069.html\n/perfume/Chanel/Chanel-No-5-Eau-de-Parfum-Red-Edition-51421.html\n/perfume/Chanel/Chanel-No-5-Eau-de-Toilette-10856.html\n/perfume/Chanel/Chanel-No-5-Eau-Premiere-2015-31172.html\n/perfume/Chanel/Chanel-No-5-Hair-Mist-46212.html\n/perfume/Chanel/Chanel-No-5-L-Eau-38543.html\n/perfume/Chanel/Chanel-No-5-L-Eau-Red-Edition-51422.html\n/perfume/Chanel/Chanel-No-5-Parfum-28711.html\n/perfume/Chanel/Chanel-No-5-Parfum-Red-Edition-51423.html\n/perfume/Chanel/Coco-Eau-de-Parfum-609.html\n/perfume/Chanel/Coco-Eau-de-Toilette-31353.html\n/perfume/Chanel/Coco-Mademoiselle-611.html\n/perfume/Chanel/Coco-Mademoiselle-Eau-de-Toilette-612.html\n/perfume/Chanel/Coco-Mademoiselle-Hair-Mist-46211.html\n/perfume/Chanel/Coco-Mademoiselle-Intense-48310.html\n/perfume/Chanel/Coco-Mademoiselle-L-Eau-Privee-62194.html\n/perfume/Chanel/Coco-Mademoiselle-L-Extrait-14957.html\n/perfume/Chanel/Coco-Mademoiselle-Parfum-6928.html\n/perfume/Chanel/Coco-Noir-15963.html\n/perfume/Chanel/Coco-Noir-Extrait-27496.html\n/perfume/Chanel/Coco-Noir-Hair-Mist-50254.html\n/perfume/Chanel/Coco-Parfum-31354.html\n/perfume/Chanel/Cristalle-Eau-de-Parfum-31352.html\n/perfume/Chanel/Cristalle-Eau-de-Toilette-12.html\n/perfume/Chanel/Cristalle-Eau-Verte-5909.html\n/perfume/Chanel/Egoiste-613.html\n/perfume/Chanel/Egoiste-Cologne-Concentree-17293.html\n/perfume/Chanel/Egoiste-Platinum-614.html\n/perfume/Chanel/Gabrielle-43718.html\n/perfume/Chanel/Gabrielle-Chanel-Hair-Mist-56250.html\n/perfume/Chanel/Gabrielle-Essence-56076.html\n/perfume/Chanel/Paris-Riviera-54854.html\n/perfume/Chanel/Paris-Venise-49696.html\n/perfume/Chanel/Paris-Biarritz-49698.html\n/perfume/Chanel/Paris-Deauville-49697.html\n/perfume/Chanel/1932-Eau-de-Parfum-41778.html\n/perfume/Chanel/31-Rue-Cambon-Eau-de-Parfum-41785.html\n/perfume/Chanel/Beige-Eau-de-Parfum-41779.html\n/perfume/Chanel/Bel-Respiro-Eau-de-Parfum-41782.html\n/perfume/Chanel/Bois-des-Iles-1006.html\n/perfume/Chanel/Bois-des-Iles-Eau-de-Parfum-41787.html\n/perfume/Chanel/Bois-Des-Iles-Parfum-52140.html\n/perfume/Chanel/Boy-Chanel-37473.html\n/perfume/Chanel/Chanel-1957-52483.html\n/perfume/Chanel/Chanel-N022-1007.html\n/perfume/Chanel/Coromandel-Eau-de-Parfum-41783.html\n/perfume/Chanel/Coromandel-Parfum-56712.html\n/perfume/Chanel/Cuir-de-Russie-Eau-de-Parfum-41786.html\n/perfume/Chanel/Gardenia-936.html\n/perfume/Chanel/Gardenia-Eau-de-Parfum-41788.html\n/perfume/Chanel/Jersey-Eau-de-Parfum-41776.html\n/perfume/Chanel/La-Pausa-Eau-de-Parfum-41781.html\n/perfume/Chanel/Le-Lion-de-Chanel-61036.html\n/perfume/Chanel/Les-Exclusifs-de-Chanel-1932-17388.html\n/perfume/Chanel/Les-Exclusifs-de-Chanel-1932-Parfum-24445.html\n/perfume/Chanel/Les-Exclusifs-de-Chanel-28-La-Pausa-7131.html\n/perfume/Chanel/Les-Exclusifs-de-Chanel-31-Rue-Cambon-7150.html\n/perfume/Chanel/Les-Exclusifs-de-Chanel-Beige-4686.html\n/perfume/Chanel/Les-Exclusifs-de-Chanel-Beige-Parfum-24446.html\n/perfume/Chanel/Les-Exclusifs-de-Chanel-Bel-Respiro-7141.html\n/perfume/Chanel/Les-Exclusifs-de-Chanel-Coromandel-7145.html\n/perfume/Chanel/Les-Exclusifs-de-Chanel-Cuir-de-Russie-7144.html\n/perfume/Chanel/Les-Exclusifs-de-Chanel-Cuir-de-Russie-1924-98.html\n/perfume/Chanel/Les-Exclusifs-de-Chanel-Eau-de-Cologne-7130.html\n/perfume/Chanel/Les-Exclusifs-de-Chanel-Jersey-12425.html\n/perfume/Chanel/Les-Exclusifs-de-Chanel-Jersey-Parfum-24447.html\n/perfume/Chanel/Les-Exclusifs-de-Chanel-Misia-29676.html\n/perfume/Chanel/Les-Exclusifs-de-Chanel-No-18-7147.html\n/perfume/Chanel/Les-Exclusifs-de-Chanel-No-22-7142.html\n/perfume/Chanel/Les-Exclusifs-de-Chanel-Sycomore-4688.html\n/perfume/Chanel/Misia-Eau-de-Parfum-41777.html\n/perfume/Chanel/No-18-Eau-de-Parfum-41784.html\n/perfume/Chanel/No-22-Eau-de-Parfum-41789.html\n/perfume/Chanel/No-22-Parfum-60368.html\n/perfume/Chanel/Sycomore-Eau-de-Parfum-41780.html\n/perfume/Chanel/Pour-Monsieur-615.html\n/perfume/Chanel/Pour-Monsieur-Concentree-3131.html\n/perfume/Chanel/Pour-Monsieur-Eau-de-Parfum-43001.html\n"
          ]
        }
      ]
    },
    {
      "cell_type": "code",
      "execution_count": 5,
      "metadata": {},
      "outputs": [],
      "source": [
        "# 특정 향수 정보 가져오기 \n",
        "def perfume_info_crawler(perfume_url, header, site_name):  \n",
        "    try:\n",
        "        res = requests.get(perfume_url, headers = {'User-agent': header}) # 헤더 추가해서 429 에러 우회\n",
        "        bs = BeautifulSoup(res.text, 'html.parser')\n",
        "        perfume_info = {}\n",
        "        perfume_keyword_list = []\n",
        "        top_note_list = []\n",
        "        attribute_error_count = 0\n",
        "\n",
        "        # body 내부 main content 발췌\n",
        "        main_content = bs.select_one('body div#main-content div.grid-x.grid-margin-x div.grid-x.bg-white.grid-padding-x.grid-padding-y')\n",
        "\n",
        "        #향수 이름\n",
        "        perfume_name = main_content.select_one('div#toptop > h1').text\n",
        "        print('향수 이름 : {}'.format(perfume_name))\n",
        "\n",
        "        #향수 이미지\n",
        "        perfume_img = main_content.select_one('div.cell.small-12 div.grid-x.grid-margin-x.grid-margin-y div.cell.small-6.text-center div.cell.small-12 img')[\"src\"]\n",
        "        print('향수 이미지 : {}'.format(perfume_img))\n",
        "\n",
        "        #향수 키워드 목록\n",
        "        for i in main_content.select('div.cell.small-12 div.grid-x.grid-margin-x.grid-margin-y div.cell.small-6.text-center div.grid-x div.cell.accord-box'):\n",
        "            keyword = i.select_one('div.accord-bar').text\n",
        "            perfume_keyword_list.append(keyword)\n",
        "        print('향수 키워드 목록 : {}'.format(perfume_keyword_list))\n",
        "\n",
        "        # 향수 스토리 요약 & 본문\n",
        "        perfume_story_raw= main_content.select_one('div.cell.small-12 div.grid-x.grid-margin-x.grid-margin-y div[itemprop=description]')\n",
        "        perfume_story_summary = perfume_story_raw.select_one('p').text\n",
        "        print('향수 스토리 요약 : {}'.format(perfume_story_summary))\n",
        "        perfume_story_detail_raw = perfume_story_raw.select('div.' + site_name + '-blockquote p')\n",
        "        perfume_story_detail_str = ''\n",
        "        for i in perfume_story_detail_raw:\n",
        "            perfume_story_detail_str += i.text+ ' \\n'\n",
        "        perfume_story_detail = perfume_story_detail_str[:-2]  #문자열 맨 끝 \\n 제거\n",
        "        print('향수 스토리 본문 : {}'.format(perfume_story_detail))\n",
        "\n",
        "        #향수 노트(top/middle/bottom)\n",
        "        perfume_notes_raw = main_content.select('div#pyramid div.cell div div[style^=\"display: flex\"]')\n",
        "\n",
        "        top_raw = perfume_notes_raw[0]\n",
        "        top_note_list = [i.text for i in top_raw]\n",
        "        print('향수 top 노트 목록 : {}'.format(top_note_list))\n",
        "        \n",
        "        if len(perfume_notes_raw) > 1:\n",
        "            middle_raw = perfume_notes_raw[1]\n",
        "            middle_note_list = [i.text for i in middle_raw]\n",
        "            print('향수 middle 노트 목록 : {}'.format(middle_note_list))\n",
        "\n",
        "            bottom_raw = perfume_notes_raw[2]\n",
        "            bottom_note_list = [i.text for i in bottom_raw]\n",
        "            print('향수 bottom 노트 목록 : {}'.format(bottom_note_list))\n",
        "\n",
        "        print()\n",
        "\n",
        "    except AttributeError as e:\n",
        "        attribute_error_count += 1\n",
        "        print(e)\n",
        "        if attribute_error_count > 5 :\n",
        "            return 0 \n"
      ]
    },
    {
      "cell_type": "code",
      "execution_count": 6,
      "metadata": {},
      "outputs": [
        {
          "output_type": "error",
          "ename": "MissingSchema",
          "evalue": "Invalid URL '/perfume/Chanel/Antaeus-616.html': No schema supplied. Perhaps you meant http:///perfume/Chanel/Antaeus-616.html?",
          "traceback": [
            "\u001b[1;31m---------------------------------------------------------------------------\u001b[0m",
            "\u001b[1;31mMissingSchema\u001b[0m                             Traceback (most recent call last)",
            "\u001b[1;32m<ipython-input-6-6ee1abfd8194>\u001b[0m in \u001b[0;36m<module>\u001b[1;34m\u001b[0m\n\u001b[0;32m      1\u001b[0m \u001b[1;32mfor\u001b[0m \u001b[0mperfume_url\u001b[0m \u001b[1;32min\u001b[0m \u001b[0mperfume_list\u001b[0m\u001b[1;33m:\u001b[0m\u001b[1;33m\u001b[0m\u001b[1;33m\u001b[0m\u001b[0m\n\u001b[0;32m      2\u001b[0m   \u001b[0mtime\u001b[0m\u001b[1;33m.\u001b[0m\u001b[0msleep\u001b[0m\u001b[1;33m(\u001b[0m\u001b[0mrandom\u001b[0m\u001b[1;33m.\u001b[0m\u001b[0mrandrange\u001b[0m\u001b[1;33m(\u001b[0m\u001b[1;36m30\u001b[0m\u001b[1;33m,\u001b[0m \u001b[1;36m60\u001b[0m\u001b[1;33m)\u001b[0m\u001b[1;33m)\u001b[0m\u001b[1;33m\u001b[0m\u001b[1;33m\u001b[0m\u001b[0m\n\u001b[1;32m----> 3\u001b[1;33m   \u001b[0mperfume_info_crawler\u001b[0m\u001b[1;33m(\u001b[0m\u001b[0mperfume_url\u001b[0m\u001b[1;33m,\u001b[0m \u001b[0mheader\u001b[0m\u001b[1;33m)\u001b[0m\u001b[1;33m\u001b[0m\u001b[1;33m\u001b[0m\u001b[0m\n\u001b[0m",
            "\u001b[1;32m<ipython-input-5-6beb894377bd>\u001b[0m in \u001b[0;36mperfume_info_crawler\u001b[1;34m(perfume_url, header)\u001b[0m\n\u001b[0;32m      2\u001b[0m \u001b[1;32mdef\u001b[0m \u001b[0mperfume_info_crawler\u001b[0m\u001b[1;33m(\u001b[0m\u001b[0mperfume_url\u001b[0m\u001b[1;33m,\u001b[0m \u001b[0mheader\u001b[0m\u001b[1;33m)\u001b[0m\u001b[1;33m:\u001b[0m\u001b[1;33m\u001b[0m\u001b[1;33m\u001b[0m\u001b[0m\n\u001b[0;32m      3\u001b[0m     \u001b[1;32mtry\u001b[0m\u001b[1;33m:\u001b[0m\u001b[1;33m\u001b[0m\u001b[1;33m\u001b[0m\u001b[0m\n\u001b[1;32m----> 4\u001b[1;33m         \u001b[0mres\u001b[0m \u001b[1;33m=\u001b[0m \u001b[0mrequests\u001b[0m\u001b[1;33m.\u001b[0m\u001b[0mget\u001b[0m\u001b[1;33m(\u001b[0m\u001b[0mperfume_url\u001b[0m\u001b[1;33m,\u001b[0m \u001b[0mheaders\u001b[0m \u001b[1;33m=\u001b[0m \u001b[1;33m{\u001b[0m\u001b[1;34m'User-agent'\u001b[0m\u001b[1;33m:\u001b[0m \u001b[0mheader\u001b[0m\u001b[1;33m}\u001b[0m\u001b[1;33m)\u001b[0m \u001b[1;31m# 헤더 추가해서 429 에러 우회\u001b[0m\u001b[1;33m\u001b[0m\u001b[1;33m\u001b[0m\u001b[0m\n\u001b[0m\u001b[0;32m      5\u001b[0m         \u001b[0mbs\u001b[0m \u001b[1;33m=\u001b[0m \u001b[0mBeautifulSoup\u001b[0m\u001b[1;33m(\u001b[0m\u001b[0mres\u001b[0m\u001b[1;33m.\u001b[0m\u001b[0mtext\u001b[0m\u001b[1;33m,\u001b[0m \u001b[1;34m'html.parser'\u001b[0m\u001b[1;33m)\u001b[0m\u001b[1;33m\u001b[0m\u001b[1;33m\u001b[0m\u001b[0m\n\u001b[0;32m      6\u001b[0m         \u001b[0mperfume_info\u001b[0m \u001b[1;33m=\u001b[0m \u001b[1;33m{\u001b[0m\u001b[1;33m}\u001b[0m\u001b[1;33m\u001b[0m\u001b[1;33m\u001b[0m\u001b[0m\n",
            "\u001b[1;32m~\\AppData\\Local\\Programs\\Python\\Python37\\lib\\site-packages\\requests\\api.py\u001b[0m in \u001b[0;36mget\u001b[1;34m(url, params, **kwargs)\u001b[0m\n\u001b[0;32m     74\u001b[0m \u001b[1;33m\u001b[0m\u001b[0m\n\u001b[0;32m     75\u001b[0m     \u001b[0mkwargs\u001b[0m\u001b[1;33m.\u001b[0m\u001b[0msetdefault\u001b[0m\u001b[1;33m(\u001b[0m\u001b[1;34m'allow_redirects'\u001b[0m\u001b[1;33m,\u001b[0m \u001b[1;32mTrue\u001b[0m\u001b[1;33m)\u001b[0m\u001b[1;33m\u001b[0m\u001b[1;33m\u001b[0m\u001b[0m\n\u001b[1;32m---> 76\u001b[1;33m     \u001b[1;32mreturn\u001b[0m \u001b[0mrequest\u001b[0m\u001b[1;33m(\u001b[0m\u001b[1;34m'get'\u001b[0m\u001b[1;33m,\u001b[0m \u001b[0murl\u001b[0m\u001b[1;33m,\u001b[0m \u001b[0mparams\u001b[0m\u001b[1;33m=\u001b[0m\u001b[0mparams\u001b[0m\u001b[1;33m,\u001b[0m \u001b[1;33m**\u001b[0m\u001b[0mkwargs\u001b[0m\u001b[1;33m)\u001b[0m\u001b[1;33m\u001b[0m\u001b[1;33m\u001b[0m\u001b[0m\n\u001b[0m\u001b[0;32m     77\u001b[0m \u001b[1;33m\u001b[0m\u001b[0m\n\u001b[0;32m     78\u001b[0m \u001b[1;33m\u001b[0m\u001b[0m\n",
            "\u001b[1;32m~\\AppData\\Local\\Programs\\Python\\Python37\\lib\\site-packages\\requests\\api.py\u001b[0m in \u001b[0;36mrequest\u001b[1;34m(method, url, **kwargs)\u001b[0m\n\u001b[0;32m     59\u001b[0m     \u001b[1;31m# cases, and look like a memory leak in others.\u001b[0m\u001b[1;33m\u001b[0m\u001b[1;33m\u001b[0m\u001b[1;33m\u001b[0m\u001b[0m\n\u001b[0;32m     60\u001b[0m     \u001b[1;32mwith\u001b[0m \u001b[0msessions\u001b[0m\u001b[1;33m.\u001b[0m\u001b[0mSession\u001b[0m\u001b[1;33m(\u001b[0m\u001b[1;33m)\u001b[0m \u001b[1;32mas\u001b[0m \u001b[0msession\u001b[0m\u001b[1;33m:\u001b[0m\u001b[1;33m\u001b[0m\u001b[1;33m\u001b[0m\u001b[0m\n\u001b[1;32m---> 61\u001b[1;33m         \u001b[1;32mreturn\u001b[0m \u001b[0msession\u001b[0m\u001b[1;33m.\u001b[0m\u001b[0mrequest\u001b[0m\u001b[1;33m(\u001b[0m\u001b[0mmethod\u001b[0m\u001b[1;33m=\u001b[0m\u001b[0mmethod\u001b[0m\u001b[1;33m,\u001b[0m \u001b[0murl\u001b[0m\u001b[1;33m=\u001b[0m\u001b[0murl\u001b[0m\u001b[1;33m,\u001b[0m \u001b[1;33m**\u001b[0m\u001b[0mkwargs\u001b[0m\u001b[1;33m)\u001b[0m\u001b[1;33m\u001b[0m\u001b[1;33m\u001b[0m\u001b[0m\n\u001b[0m\u001b[0;32m     62\u001b[0m \u001b[1;33m\u001b[0m\u001b[0m\n\u001b[0;32m     63\u001b[0m \u001b[1;33m\u001b[0m\u001b[0m\n",
            "\u001b[1;32m~\\AppData\\Local\\Programs\\Python\\Python37\\lib\\site-packages\\requests\\sessions.py\u001b[0m in \u001b[0;36mrequest\u001b[1;34m(self, method, url, params, data, headers, cookies, files, auth, timeout, allow_redirects, proxies, hooks, stream, verify, cert, json)\u001b[0m\n\u001b[0;32m    514\u001b[0m             \u001b[0mhooks\u001b[0m\u001b[1;33m=\u001b[0m\u001b[0mhooks\u001b[0m\u001b[1;33m,\u001b[0m\u001b[1;33m\u001b[0m\u001b[1;33m\u001b[0m\u001b[0m\n\u001b[0;32m    515\u001b[0m         )\n\u001b[1;32m--> 516\u001b[1;33m         \u001b[0mprep\u001b[0m \u001b[1;33m=\u001b[0m \u001b[0mself\u001b[0m\u001b[1;33m.\u001b[0m\u001b[0mprepare_request\u001b[0m\u001b[1;33m(\u001b[0m\u001b[0mreq\u001b[0m\u001b[1;33m)\u001b[0m\u001b[1;33m\u001b[0m\u001b[1;33m\u001b[0m\u001b[0m\n\u001b[0m\u001b[0;32m    517\u001b[0m \u001b[1;33m\u001b[0m\u001b[0m\n\u001b[0;32m    518\u001b[0m         \u001b[0mproxies\u001b[0m \u001b[1;33m=\u001b[0m \u001b[0mproxies\u001b[0m \u001b[1;32mor\u001b[0m \u001b[1;33m{\u001b[0m\u001b[1;33m}\u001b[0m\u001b[1;33m\u001b[0m\u001b[1;33m\u001b[0m\u001b[0m\n",
            "\u001b[1;32m~\\AppData\\Local\\Programs\\Python\\Python37\\lib\\site-packages\\requests\\sessions.py\u001b[0m in \u001b[0;36mprepare_request\u001b[1;34m(self, request)\u001b[0m\n\u001b[0;32m    457\u001b[0m             \u001b[0mauth\u001b[0m\u001b[1;33m=\u001b[0m\u001b[0mmerge_setting\u001b[0m\u001b[1;33m(\u001b[0m\u001b[0mauth\u001b[0m\u001b[1;33m,\u001b[0m \u001b[0mself\u001b[0m\u001b[1;33m.\u001b[0m\u001b[0mauth\u001b[0m\u001b[1;33m)\u001b[0m\u001b[1;33m,\u001b[0m\u001b[1;33m\u001b[0m\u001b[1;33m\u001b[0m\u001b[0m\n\u001b[0;32m    458\u001b[0m             \u001b[0mcookies\u001b[0m\u001b[1;33m=\u001b[0m\u001b[0mmerged_cookies\u001b[0m\u001b[1;33m,\u001b[0m\u001b[1;33m\u001b[0m\u001b[1;33m\u001b[0m\u001b[0m\n\u001b[1;32m--> 459\u001b[1;33m             \u001b[0mhooks\u001b[0m\u001b[1;33m=\u001b[0m\u001b[0mmerge_hooks\u001b[0m\u001b[1;33m(\u001b[0m\u001b[0mrequest\u001b[0m\u001b[1;33m.\u001b[0m\u001b[0mhooks\u001b[0m\u001b[1;33m,\u001b[0m \u001b[0mself\u001b[0m\u001b[1;33m.\u001b[0m\u001b[0mhooks\u001b[0m\u001b[1;33m)\u001b[0m\u001b[1;33m,\u001b[0m\u001b[1;33m\u001b[0m\u001b[1;33m\u001b[0m\u001b[0m\n\u001b[0m\u001b[0;32m    460\u001b[0m         )\n\u001b[0;32m    461\u001b[0m         \u001b[1;32mreturn\u001b[0m \u001b[0mp\u001b[0m\u001b[1;33m\u001b[0m\u001b[1;33m\u001b[0m\u001b[0m\n",
            "\u001b[1;32m~\\AppData\\Local\\Programs\\Python\\Python37\\lib\\site-packages\\requests\\models.py\u001b[0m in \u001b[0;36mprepare\u001b[1;34m(self, method, url, headers, files, data, params, auth, cookies, hooks, json)\u001b[0m\n\u001b[0;32m    312\u001b[0m \u001b[1;33m\u001b[0m\u001b[0m\n\u001b[0;32m    313\u001b[0m         \u001b[0mself\u001b[0m\u001b[1;33m.\u001b[0m\u001b[0mprepare_method\u001b[0m\u001b[1;33m(\u001b[0m\u001b[0mmethod\u001b[0m\u001b[1;33m)\u001b[0m\u001b[1;33m\u001b[0m\u001b[1;33m\u001b[0m\u001b[0m\n\u001b[1;32m--> 314\u001b[1;33m         \u001b[0mself\u001b[0m\u001b[1;33m.\u001b[0m\u001b[0mprepare_url\u001b[0m\u001b[1;33m(\u001b[0m\u001b[0murl\u001b[0m\u001b[1;33m,\u001b[0m \u001b[0mparams\u001b[0m\u001b[1;33m)\u001b[0m\u001b[1;33m\u001b[0m\u001b[1;33m\u001b[0m\u001b[0m\n\u001b[0m\u001b[0;32m    315\u001b[0m         \u001b[0mself\u001b[0m\u001b[1;33m.\u001b[0m\u001b[0mprepare_headers\u001b[0m\u001b[1;33m(\u001b[0m\u001b[0mheaders\u001b[0m\u001b[1;33m)\u001b[0m\u001b[1;33m\u001b[0m\u001b[1;33m\u001b[0m\u001b[0m\n\u001b[0;32m    316\u001b[0m         \u001b[0mself\u001b[0m\u001b[1;33m.\u001b[0m\u001b[0mprepare_cookies\u001b[0m\u001b[1;33m(\u001b[0m\u001b[0mcookies\u001b[0m\u001b[1;33m)\u001b[0m\u001b[1;33m\u001b[0m\u001b[1;33m\u001b[0m\u001b[0m\n",
            "\u001b[1;32m~\\AppData\\Local\\Programs\\Python\\Python37\\lib\\site-packages\\requests\\models.py\u001b[0m in \u001b[0;36mprepare_url\u001b[1;34m(self, url, params)\u001b[0m\n\u001b[0;32m    386\u001b[0m             \u001b[0merror\u001b[0m \u001b[1;33m=\u001b[0m \u001b[0merror\u001b[0m\u001b[1;33m.\u001b[0m\u001b[0mformat\u001b[0m\u001b[1;33m(\u001b[0m\u001b[0mto_native_string\u001b[0m\u001b[1;33m(\u001b[0m\u001b[0murl\u001b[0m\u001b[1;33m,\u001b[0m \u001b[1;34m'utf8'\u001b[0m\u001b[1;33m)\u001b[0m\u001b[1;33m)\u001b[0m\u001b[1;33m\u001b[0m\u001b[1;33m\u001b[0m\u001b[0m\n\u001b[0;32m    387\u001b[0m \u001b[1;33m\u001b[0m\u001b[0m\n\u001b[1;32m--> 388\u001b[1;33m             \u001b[1;32mraise\u001b[0m \u001b[0mMissingSchema\u001b[0m\u001b[1;33m(\u001b[0m\u001b[0merror\u001b[0m\u001b[1;33m)\u001b[0m\u001b[1;33m\u001b[0m\u001b[1;33m\u001b[0m\u001b[0m\n\u001b[0m\u001b[0;32m    389\u001b[0m \u001b[1;33m\u001b[0m\u001b[0m\n\u001b[0;32m    390\u001b[0m         \u001b[1;32mif\u001b[0m \u001b[1;32mnot\u001b[0m \u001b[0mhost\u001b[0m\u001b[1;33m:\u001b[0m\u001b[1;33m\u001b[0m\u001b[1;33m\u001b[0m\u001b[0m\n",
            "\u001b[1;31mMissingSchema\u001b[0m: Invalid URL '/perfume/Chanel/Antaeus-616.html': No schema supplied. Perhaps you meant http:///perfume/Chanel/Antaeus-616.html?"
          ]
        }
      ],
      "source": [
        "for perfume_url in perfume_list:\n",
        "  time.sleep(random.randrange(30, 60))\n",
        "  perfume_info_crawler(siperfume_url, site_nameheader)"
      ]
    },
    {
      "cell_type": "code",
      "execution_count": null,
      "metadata": {},
      "outputs": [],
      "source": []
    }
  ]
}
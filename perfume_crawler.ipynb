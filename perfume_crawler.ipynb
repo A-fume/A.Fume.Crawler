{
  "nbformat": 4,
  "nbformat_minor": 0,
  "metadata": {
    "colab": {
      "name": "perfume_crawler",
      "provenance": [],
      "collapsed_sections": []
    },
    "kernelspec": {
      "name": "python3",
      "display_name": "Python 3",
      "language": "python"
    }
  },
  "cells": [
    {
      "source": [
        "### Afume_Perfume_Crawler ***Version 1.1***\n",
        "+ 향수 note 정보 -> csv 파일 저장 기능 추가\n",
        "+ 향수 이미지 url -> jpg 파일 저장 기능 추가"
      ],
      "cell_type": "markdown",
      "metadata": {}
    },
    {
      "source": [
        "from bs4 import BeautifulSoup \n",
        "import requests\n",
        "import urllib.request\n",
        "import time\n",
        "import random\n",
        "import os\n",
        "import csv\n",
        "import pandas as pd\n",
        "from dotenv import load_dotenv"
      ],
      "cell_type": "code",
      "metadata": {
        "id": "iHRYDMpvHFAR"
      },
      "execution_count": 15,
      "outputs": []
    },
    {
      "cell_type": "code",
      "execution_count": 7,
      "metadata": {},
      "outputs": [],
      "source": [
        "#환경변수 불러오기\n",
        "load_dotenv(dotenv_path = '.env', verbose=True)\n",
        "site_url = os.getenv('SITE_URL')\n",
        "site_name = os.getenv('SITE_NAME')\n",
        "header = os.getenv('HEADER')"
      ]
    },
    {
      "cell_type": "code",
      "execution_count": 8,
      "metadata": {},
      "outputs": [],
      "source": [
        "input_keyword = input('향수 브랜드 영문 이름을 입력하세요.\\n사이트 내에서 정확한 명을 찾아 입력해주세요!(단어간 띄어쓰기, 대소문자 중요) : ')"
      ]
    },
    {
      "cell_type": "code",
      "execution_count": 9,
      "metadata": {},
      "outputs": [],
      "source": [
        "folder_name = input_keyword.replace(' ','-')"
      ]
    },
    {
      "cell_type": "code",
      "execution_count": 10,
      "metadata": {},
      "outputs": [],
      "source": [
        "# 브랜드 이름의 폴더 생성\r\n",
        "os.makedirs(folder_name)"
      ]
    },
    {
      "cell_type": "code",
      "execution_count": 11,
      "metadata": {},
      "outputs": [],
      "source": [
        "os.chdir(folder_name)"
      ]
    },
    {
      "cell_type": "code",
      "metadata": {
        "id": "bepboqC152iR"
      },
      "source": [
        "#브랜드별 향수 정보 가져오기\n",
        "def brand_perfume_crawler(input_keyword, site_url, site_name, header):\n",
        "  keyword = input_keyword.replace(' ','-') # 공백 하이픈(-)처리\n",
        "\n",
        "  try:\n",
        "    link = (site_url + '/designers/{}.html').format(keyword)\n",
        "    res = requests.get(link, headers = {'User-agent': header}) # 헤더 추가해서 429 에러 우회\n",
        "    bs = BeautifulSoup(res.text, 'html.parser')\n",
        "\n",
        "    # csv 파일 생성\n",
        "    file = open(input_keyword + \".csv\", mode=\"w\", encoding=\"utf-8\", newline=\"\")\n",
        "    writer=csv.writer(file)\n",
        "    writer.writerow([\"p.name\", \"i.name\", \"position\"])\n",
        "\n",
        "    # 1. 브랜드별 향수 목록 가져오기\n",
        "    all_perfume_url = []\n",
        "    for i in bs.select('body div#main-content div#brands div.cell.text-left.prefumeHbox.px1-box-shadow div.flex-child-auto h3 a'):\n",
        "      perfume_url = i[\"href\"]\n",
        "      all_perfume_url.append(perfume_url)\n",
        "    for i in all_perfume_url:\n",
        "      print(i)\n",
        "    \n",
        "    print()\n",
        "    time.sleep(300)\n",
        "    \n",
        "    # 2. 특정 향수 정보 가져오기 \n",
        "    for perfume_url in all_perfume_url:\n",
        "\n",
        "      time.sleep(random.randrange(30, 60))\n",
        "\n",
        "      res2 = requests.get(site_url + perfume_url, headers = {'User-agent': header}) # 헤더 추가해서 429 에러 우회\n",
        "      bs2 = BeautifulSoup(res2.text, 'html.parser')\n",
        "      perfume_info = {}\n",
        "      perfume_keyword_list = []\n",
        "      top_note_list = []\n",
        "      attribute_error_count = 0\n",
        "\n",
        "      # body 내부 main content 발췌\n",
        "      main_content = bs2.select_one('body div#main-content div.grid-x.grid-margin-x div.grid-x.bg-white.grid-padding-x.grid-padding-y')\n",
        "\n",
        "      #향수 이름\n",
        "      perfume_name = main_content.select_one('div#toptop > h1').text\n",
        "      print('향수 이름 : {}'.format(perfume_name))\n",
        "\n",
        "      #향수 이미지\n",
        "      perfume_img = main_content.select_one('div.cell.small-12 div.grid-x.grid-margin-x.grid-margin-y div.cell.small-6.text-center div.cell.small-12 img')[\"src\"]\n",
        "      urllib.request.urlretrieve(perfume_img, perfume_name + \".jpg\")\n",
        "      print('향수 이미지 : {}'.format(perfume_img))\n",
        "\n",
        "      #향수 키워드 목록\n",
        "      for i in main_content.select('div.cell.small-12 div.grid-x.grid-margin-x.grid-margin-y div.cell.small-6.text-center div.grid-x div.cell.accord-box'):\n",
        "          keyword = i.select_one('div.accord-bar').text\n",
        "          perfume_keyword_list.append(keyword)\n",
        "      print('향수 키워드 목록 : {}'.format(perfume_keyword_list))\n",
        "\n",
        "      # 향수 스토리 요약 & 본문\n",
        "      perfume_story_raw= main_content.select_one('div.cell.small-12 div.grid-x.grid-margin-x.grid-margin-y div[itemprop=description]')\n",
        "      perfume_story_summary = perfume_story_raw.select_one('p').text\n",
        "      print('향수 스토리 요약 : {}'.format(perfume_story_summary))\n",
        "      perfume_story_detail_raw = perfume_story_raw.select('div.' + site_name + '-blockquote p')\n",
        "      perfume_story_detail_str = ''\n",
        "      for i in perfume_story_detail_raw:\n",
        "          perfume_story_detail_str += i.text+ ' \\n'\n",
        "      perfume_story_detail = perfume_story_detail_str[:-2]  #문자열 맨 끝 \\n 제거\n",
        "      print('향수 스토리 본문 : {}'.format(perfume_story_detail))\n",
        "\n",
        "      #향수 노트(top/middle/bottom)\n",
        "      perfume_notes_raw = main_content.select('div#pyramid div.cell div div[style^=\"display: flex\"]')\n",
        "\n",
        "      top_raw = perfume_notes_raw[0]\n",
        "      top_note_list = [i.text for i in top_raw]\n",
        "      position =  'TOP' if len(perfume_notes_raw) > 1 else 'SINGLE'\n",
        "      for t in top_note_list:\n",
        "        writer.writerow([perfume_name, t, position])\n",
        "      print('향수 top 노트 목록 : {}'.format(top_note_list))\n",
        "      \n",
        "      if len(perfume_notes_raw) > 1:\n",
        "          middle_raw = perfume_notes_raw[1]\n",
        "          middle_note_list = [i.text for i in middle_raw]\n",
        "          for m in middle_note_list:\n",
        "            writer.writerow([perfume_name, m, 'MIDDLE'])\n",
        "          print('향수 middle 노트 목록 : {}'.format(middle_note_list))\n",
        "\n",
        "          bottom_raw = perfume_notes_raw[2]\n",
        "          bottom_note_list = [i.text for i in bottom_raw]\n",
        "          for b in bottom_note_list:\n",
        "            writer.writerow([perfume_name, b, 'BASE'])\n",
        "          print('향수 bottom 노트 목록 : {}'.format(bottom_note_list))\n",
        "\n",
        "      print('--------------------------------------------------------------------')\n",
        "\n",
        "    file.close()\n",
        "\n",
        "  except AttributeError as e:\n",
        "    print(e)\n",
        "\n",
        "  return all_perfume_url"
      ],
      "execution_count": 12,
      "outputs": []
    },
    {
      "cell_type": "code",
      "metadata": {
        "id": "-9vtfBFcpl1l",
        "colab": {
          "base_uri": "https://localhost:8080/"
        },
        "outputId": "33e3a1b1-2964-40b5-b7db-e0da79a7c892"
      },
      "source": [
        "perfume_list = brand_perfume_crawler(input_keyword, site_url, site_name, header)"
      ],
      "execution_count": 13,
      "outputs": [
        {
          "output_type": "stream",
          "name": "stdout",
          "text": [
            "/perfume/Shu-Uemura/Fleur-de-Rose-4214.html\n",
            "/perfume/Shu-Uemura/Fleur-de-Source-4213.html\n",
            "/perfume/Shu-Uemura/Fleur-de-Terre-4212.html\n",
            "/perfume/Shu-Uemura/Shu-Uemura-18278.html\n",
            "/perfume/Shu-Uemura/Shu-Uemura-029-38308.html\n",
            "\n",
            "향수 이름 : Fleur de Rose Shu Uemura for women\n",
            "향수 이미지 : https://fimgs.net/mdimg/perfume/375x500.4214.jpg\n",
            "향수 키워드 목록 : ['rose', 'citrus', 'woody', 'aromatic', 'powdery', 'white floral', 'yellow floral']\n",
            "향수 스토리 요약 : Fleur de Rose by Shu Uemura is a Floral fragrance for women. Fleur de Rose was launched in 2008. The nose behind this fragrance is Daniel Maurel. Top note is Lemon; middle notes are Rose, Jasmine, Ylang-Ylang and Freesia; base notes are Sandalwood and Sage. \n",
            "향수 스토리 본문 : \n",
            "향수 top 노트 목록 : ['Lemon']\n",
            "향수 middle 노트 목록 : ['Rose', 'Jasmine', 'Ylang-Ylang', 'Freesia']\n",
            "향수 bottom 노트 목록 : ['Sandalwood', 'Sage']\n",
            "--------------------------------------------------------------------\n",
            "향수 이름 : Fleur de Source Shu Uemura for women\n",
            "향수 이미지 : https://fimgs.net/mdimg/perfume/375x500.4213.jpg\n",
            "향수 키워드 목록 : ['aromatic', 'white floral', 'soft spicy', 'fresh spicy', 'anis', 'citrus', 'lavender', 'woody', 'green', 'herbal']\n",
            "향수 스토리 요약 : Fleur de Source by Shu Uemura is a Citrus Aromatic fragrance for women. Fleur de Source was launched in 2008. The nose behind this fragrance is Jacques Fiori. Top notes are Anise, Lavender, Papyrus and Lemon; middle notes are Orange Blossom and Jasmine; base notes are Basil and Coriander. \n",
            "향수 스토리 본문 : \n",
            "향수 top 노트 목록 : ['Anise', 'Lavender', 'Papyrus', 'Lemon']\n",
            "향수 middle 노트 목록 : ['Orange Blossom', 'Jasmine']\n",
            "향수 bottom 노트 목록 : ['Basil', 'Coriander']\n",
            "--------------------------------------------------------------------\n",
            "향수 이름 : Fleur de Terre Shu Uemura for women\n",
            "향수 이미지 : https://fimgs.net/mdimg/perfume/375x500.4212.jpg\n",
            "향수 키워드 목록 : ['aromatic', 'citrus', 'fresh spicy', 'woody', 'green', 'powdery', 'sweet', 'vanilla', 'anis', 'yellow floral']\n",
            "향수 스토리 요약 : Fleur de Terre by Shu Uemura is a Amber Floral fragrance for women. Fleur de Terre was launched in 2008. The nose behind this fragrance is Marc Fanton d'Andon. Top notes are Bergamot, Mint, Anise, Orange, Lavender, Basil and Lemon; middle notes are Mimosa, Rosemary and Orange Blossom; base notes are Sandalwood, Vanilla, Tonka Bean and Cedar. \n",
            "향수 스토리 본문 : \n",
            "향수 top 노트 목록 : ['Bergamot', 'Mint', 'Anise', 'Orange', 'Lavender', 'Basil', 'Lemon']\n",
            "향수 middle 노트 목록 : ['Mimosa', 'Rosemary', 'Orange Blossom']\n",
            "향수 bottom 노트 목록 : ['Sandalwood', 'Vanilla', 'Tonka Bean', 'Cedar']\n",
            "--------------------------------------------------------------------\n",
            "향수 이름 : Shu Uemura Shu Uemura for women\n",
            "향수 이미지 : https://fimgs.net/mdimg/perfume/375x500.18278.jpg\n",
            "향수 키워드 목록 : ['sweet', 'white floral', 'woody', 'fruity', 'powdery', 'vanilla', 'citrus', 'floral', 'aromatic', 'earthy']\n",
            "향수 스토리 요약 : Shu Uemura by Shu Uemura is a Chypre Floral fragrance for women. Shu Uemura was launched in 1989. Top notes are Black Currant, Apricot, Bergamot, Peach, Orange and Coconut; middle notes are Jasmine, Marigold, iris, Lily-of-the-Valley, Ylang-Ylang and Rose; base notes are Vanilla, Castoreum, Tonka Bean, Moss, Civet, Amber and Patchouli. \n",
            "향수 스토리 본문 : \n",
            "향수 top 노트 목록 : ['Black Currant', 'Apricot', 'Bergamot', 'Peach', 'Orange', 'Coconut']\n",
            "향수 middle 노트 목록 : ['Jasmine', 'Marigold', 'iris', 'Lily-of-the-Valley', 'Ylang-Ylang', 'Rose']\n",
            "향수 bottom 노트 목록 : ['Vanilla', 'Castoreum', 'Tonka Bean', 'Moss', 'Civet', 'Amber', 'Patchouli']\n",
            "--------------------------------------------------------------------\n",
            "향수 이름 : Shu Uemura 029 Shu Uemura for women and men\n",
            "향수 이미지 : https://fimgs.net/mdimg/perfume/375x500.38308.jpg\n",
            "향수 키워드 목록 : ['aromatic', 'fresh spicy', 'herbal', 'woody', 'citrus', 'white floral', 'lavender', 'mossy', 'earthy']\n",
            "향수 스토리 요약 : Shu Uemura 029 by Shu Uemura is a Aromatic Fougere fragrance for women and men. Shu Uemura 029 was launched in 1999. The nose behind this fragrance is Daniel Maurel. Top notes are Lemon, Lavender, Artemisia, Rosemary, Tarragon and Tangerine; middle notes are Jasmine, Geranium, Rose, Pitosporum and Ylang-Ylang; base notes are Oakmoss, Cedar, Sage, Patchouli and Amber. \n",
            "향수 스토리 본문 :  Top notes: bergamot, lemon, tangerine, artemisia, lavender and rosemary. Heart: rose, geranium, jasmine, ylang-ylang and pitosporum. Base: cedar, patchouli, oak moss, sage and amber.  \n",
            " It is available as EDT.\n",
            "향수 top 노트 목록 : ['Lemon', 'Lavender', 'Artemisia', 'Rosemary', 'Tarragon', 'Tangerine']\n",
            "향수 middle 노트 목록 : ['Jasmine', 'Geranium', 'Rose', 'Pitosporum', 'Ylang-Ylang']\n",
            "향수 bottom 노트 목록 : ['Oakmoss', 'Cedar', 'Sage', 'Patchouli', 'Amber']\n",
            "--------------------------------------------------------------------\n"
          ]
        }
      ]
    },
    {
      "cell_type": "code",
      "execution_count": 16,
      "metadata": {},
      "outputs": [
        {
          "output_type": "execute_result",
          "data": {
            "text/plain": [
              "                                         p.name       i.name position\n",
              "0            Fleur de Rose Shu Uemura for women        Lemon      TOP\n",
              "1            Fleur de Rose Shu Uemura for women         Rose   MIDDLE\n",
              "2            Fleur de Rose Shu Uemura for women      Jasmine   MIDDLE\n",
              "3            Fleur de Rose Shu Uemura for women  Ylang-Ylang   MIDDLE\n",
              "4            Fleur de Rose Shu Uemura for women      Freesia   MIDDLE\n",
              "..                                          ...          ...      ...\n",
              "59  Shu Uemura 029 Shu Uemura for women and men      Oakmoss     BASE\n",
              "60  Shu Uemura 029 Shu Uemura for women and men        Cedar     BASE\n",
              "61  Shu Uemura 029 Shu Uemura for women and men         Sage     BASE\n",
              "62  Shu Uemura 029 Shu Uemura for women and men    Patchouli     BASE\n",
              "63  Shu Uemura 029 Shu Uemura for women and men        Amber     BASE\n",
              "\n",
              "[64 rows x 3 columns]"
            ],
            "text/html": "<div>\n<style scoped>\n    .dataframe tbody tr th:only-of-type {\n        vertical-align: middle;\n    }\n\n    .dataframe tbody tr th {\n        vertical-align: top;\n    }\n\n    .dataframe thead th {\n        text-align: right;\n    }\n</style>\n<table border=\"1\" class=\"dataframe\">\n  <thead>\n    <tr style=\"text-align: right;\">\n      <th></th>\n      <th>p.name</th>\n      <th>i.name</th>\n      <th>position</th>\n    </tr>\n  </thead>\n  <tbody>\n    <tr>\n      <th>0</th>\n      <td>Fleur de Rose Shu Uemura for women</td>\n      <td>Lemon</td>\n      <td>TOP</td>\n    </tr>\n    <tr>\n      <th>1</th>\n      <td>Fleur de Rose Shu Uemura for women</td>\n      <td>Rose</td>\n      <td>MIDDLE</td>\n    </tr>\n    <tr>\n      <th>2</th>\n      <td>Fleur de Rose Shu Uemura for women</td>\n      <td>Jasmine</td>\n      <td>MIDDLE</td>\n    </tr>\n    <tr>\n      <th>3</th>\n      <td>Fleur de Rose Shu Uemura for women</td>\n      <td>Ylang-Ylang</td>\n      <td>MIDDLE</td>\n    </tr>\n    <tr>\n      <th>4</th>\n      <td>Fleur de Rose Shu Uemura for women</td>\n      <td>Freesia</td>\n      <td>MIDDLE</td>\n    </tr>\n    <tr>\n      <th>...</th>\n      <td>...</td>\n      <td>...</td>\n      <td>...</td>\n    </tr>\n    <tr>\n      <th>59</th>\n      <td>Shu Uemura 029 Shu Uemura for women and men</td>\n      <td>Oakmoss</td>\n      <td>BASE</td>\n    </tr>\n    <tr>\n      <th>60</th>\n      <td>Shu Uemura 029 Shu Uemura for women and men</td>\n      <td>Cedar</td>\n      <td>BASE</td>\n    </tr>\n    <tr>\n      <th>61</th>\n      <td>Shu Uemura 029 Shu Uemura for women and men</td>\n      <td>Sage</td>\n      <td>BASE</td>\n    </tr>\n    <tr>\n      <th>62</th>\n      <td>Shu Uemura 029 Shu Uemura for women and men</td>\n      <td>Patchouli</td>\n      <td>BASE</td>\n    </tr>\n    <tr>\n      <th>63</th>\n      <td>Shu Uemura 029 Shu Uemura for women and men</td>\n      <td>Amber</td>\n      <td>BASE</td>\n    </tr>\n  </tbody>\n</table>\n<p>64 rows × 3 columns</p>\n</div>"
          },
          "metadata": {},
          "execution_count": 16
        }
      ],
      "source": [
        "# csv 파일 내용 보기\n",
        "pd.read_csv(input_keyword + \".csv\")"
      ]
    }
  ]
}